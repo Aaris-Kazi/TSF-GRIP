{
 "metadata": {
  "language_info": {
   "codemirror_mode": {
    "name": "ipython",
    "version": 3
   },
   "file_extension": ".py",
   "mimetype": "text/x-python",
   "name": "python",
   "nbconvert_exporter": "python",
   "pygments_lexer": "ipython3",
   "version": "3.9.5"
  },
  "orig_nbformat": 4,
  "kernelspec": {
   "name": "python3",
   "display_name": "Python 3.9.5 64-bit"
  },
  "interpreter": {
   "hash": "0905a9d49d7a4d1509eaa3d2f777c7fa50e2b766855be97027a1d26056e5020a"
  }
 },
 "nbformat": 4,
 "nbformat_minor": 2,
 "cells": [
  {
   "cell_type": "code",
   "execution_count": 1,
   "metadata": {},
   "outputs": [],
   "source": [
    "import matplotlib.pyplot as plt\n",
    "import pandas as pd \n",
    "import numpy as np"
   ]
  },
  {
   "cell_type": "code",
   "execution_count": 2,
   "metadata": {},
   "outputs": [],
   "source": [
    "df = pd.read_csv('Datasets\\SampleSuperstore.csv')"
   ]
  },
  {
   "cell_type": "code",
   "execution_count": 3,
   "metadata": {},
   "outputs": [
    {
     "output_type": "execute_result",
     "data": {
      "text/plain": [
       "           Ship Mode    Segment        Country             City       State  \\\n",
       "0       Second Class   Consumer  United States        Henderson    Kentucky   \n",
       "1       Second Class   Consumer  United States        Henderson    Kentucky   \n",
       "2       Second Class  Corporate  United States      Los Angeles  California   \n",
       "3     Standard Class   Consumer  United States  Fort Lauderdale     Florida   \n",
       "4     Standard Class   Consumer  United States  Fort Lauderdale     Florida   \n",
       "...              ...        ...            ...              ...         ...   \n",
       "9989    Second Class   Consumer  United States            Miami     Florida   \n",
       "9990  Standard Class   Consumer  United States       Costa Mesa  California   \n",
       "9991  Standard Class   Consumer  United States       Costa Mesa  California   \n",
       "9992  Standard Class   Consumer  United States       Costa Mesa  California   \n",
       "9993    Second Class   Consumer  United States      Westminster  California   \n",
       "\n",
       "      Postal Code Region         Category Sub-Category     Sales  Quantity  \\\n",
       "0           42420  South        Furniture    Bookcases  261.9600         2   \n",
       "1           42420  South        Furniture       Chairs  731.9400         3   \n",
       "2           90036   West  Office Supplies       Labels   14.6200         2   \n",
       "3           33311  South        Furniture       Tables  957.5775         5   \n",
       "4           33311  South  Office Supplies      Storage   22.3680         2   \n",
       "...           ...    ...              ...          ...       ...       ...   \n",
       "9989        33180  South        Furniture  Furnishings   25.2480         3   \n",
       "9990        92627   West        Furniture  Furnishings   91.9600         2   \n",
       "9991        92627   West       Technology       Phones  258.5760         2   \n",
       "9992        92627   West  Office Supplies        Paper   29.6000         4   \n",
       "9993        92683   West  Office Supplies   Appliances  243.1600         2   \n",
       "\n",
       "      Discount    Profit  \n",
       "0         0.00   41.9136  \n",
       "1         0.00  219.5820  \n",
       "2         0.00    6.8714  \n",
       "3         0.45 -383.0310  \n",
       "4         0.20    2.5164  \n",
       "...        ...       ...  \n",
       "9989      0.20    4.1028  \n",
       "9990      0.00   15.6332  \n",
       "9991      0.20   19.3932  \n",
       "9992      0.00   13.3200  \n",
       "9993      0.00   72.9480  \n",
       "\n",
       "[9994 rows x 13 columns]"
      ],
      "text/html": "<div>\n<style scoped>\n    .dataframe tbody tr th:only-of-type {\n        vertical-align: middle;\n    }\n\n    .dataframe tbody tr th {\n        vertical-align: top;\n    }\n\n    .dataframe thead th {\n        text-align: right;\n    }\n</style>\n<table border=\"1\" class=\"dataframe\">\n  <thead>\n    <tr style=\"text-align: right;\">\n      <th></th>\n      <th>Ship Mode</th>\n      <th>Segment</th>\n      <th>Country</th>\n      <th>City</th>\n      <th>State</th>\n      <th>Postal Code</th>\n      <th>Region</th>\n      <th>Category</th>\n      <th>Sub-Category</th>\n      <th>Sales</th>\n      <th>Quantity</th>\n      <th>Discount</th>\n      <th>Profit</th>\n    </tr>\n  </thead>\n  <tbody>\n    <tr>\n      <th>0</th>\n      <td>Second Class</td>\n      <td>Consumer</td>\n      <td>United States</td>\n      <td>Henderson</td>\n      <td>Kentucky</td>\n      <td>42420</td>\n      <td>South</td>\n      <td>Furniture</td>\n      <td>Bookcases</td>\n      <td>261.9600</td>\n      <td>2</td>\n      <td>0.00</td>\n      <td>41.9136</td>\n    </tr>\n    <tr>\n      <th>1</th>\n      <td>Second Class</td>\n      <td>Consumer</td>\n      <td>United States</td>\n      <td>Henderson</td>\n      <td>Kentucky</td>\n      <td>42420</td>\n      <td>South</td>\n      <td>Furniture</td>\n      <td>Chairs</td>\n      <td>731.9400</td>\n      <td>3</td>\n      <td>0.00</td>\n      <td>219.5820</td>\n    </tr>\n    <tr>\n      <th>2</th>\n      <td>Second Class</td>\n      <td>Corporate</td>\n      <td>United States</td>\n      <td>Los Angeles</td>\n      <td>California</td>\n      <td>90036</td>\n      <td>West</td>\n      <td>Office Supplies</td>\n      <td>Labels</td>\n      <td>14.6200</td>\n      <td>2</td>\n      <td>0.00</td>\n      <td>6.8714</td>\n    </tr>\n    <tr>\n      <th>3</th>\n      <td>Standard Class</td>\n      <td>Consumer</td>\n      <td>United States</td>\n      <td>Fort Lauderdale</td>\n      <td>Florida</td>\n      <td>33311</td>\n      <td>South</td>\n      <td>Furniture</td>\n      <td>Tables</td>\n      <td>957.5775</td>\n      <td>5</td>\n      <td>0.45</td>\n      <td>-383.0310</td>\n    </tr>\n    <tr>\n      <th>4</th>\n      <td>Standard Class</td>\n      <td>Consumer</td>\n      <td>United States</td>\n      <td>Fort Lauderdale</td>\n      <td>Florida</td>\n      <td>33311</td>\n      <td>South</td>\n      <td>Office Supplies</td>\n      <td>Storage</td>\n      <td>22.3680</td>\n      <td>2</td>\n      <td>0.20</td>\n      <td>2.5164</td>\n    </tr>\n    <tr>\n      <th>...</th>\n      <td>...</td>\n      <td>...</td>\n      <td>...</td>\n      <td>...</td>\n      <td>...</td>\n      <td>...</td>\n      <td>...</td>\n      <td>...</td>\n      <td>...</td>\n      <td>...</td>\n      <td>...</td>\n      <td>...</td>\n      <td>...</td>\n    </tr>\n    <tr>\n      <th>9989</th>\n      <td>Second Class</td>\n      <td>Consumer</td>\n      <td>United States</td>\n      <td>Miami</td>\n      <td>Florida</td>\n      <td>33180</td>\n      <td>South</td>\n      <td>Furniture</td>\n      <td>Furnishings</td>\n      <td>25.2480</td>\n      <td>3</td>\n      <td>0.20</td>\n      <td>4.1028</td>\n    </tr>\n    <tr>\n      <th>9990</th>\n      <td>Standard Class</td>\n      <td>Consumer</td>\n      <td>United States</td>\n      <td>Costa Mesa</td>\n      <td>California</td>\n      <td>92627</td>\n      <td>West</td>\n      <td>Furniture</td>\n      <td>Furnishings</td>\n      <td>91.9600</td>\n      <td>2</td>\n      <td>0.00</td>\n      <td>15.6332</td>\n    </tr>\n    <tr>\n      <th>9991</th>\n      <td>Standard Class</td>\n      <td>Consumer</td>\n      <td>United States</td>\n      <td>Costa Mesa</td>\n      <td>California</td>\n      <td>92627</td>\n      <td>West</td>\n      <td>Technology</td>\n      <td>Phones</td>\n      <td>258.5760</td>\n      <td>2</td>\n      <td>0.20</td>\n      <td>19.3932</td>\n    </tr>\n    <tr>\n      <th>9992</th>\n      <td>Standard Class</td>\n      <td>Consumer</td>\n      <td>United States</td>\n      <td>Costa Mesa</td>\n      <td>California</td>\n      <td>92627</td>\n      <td>West</td>\n      <td>Office Supplies</td>\n      <td>Paper</td>\n      <td>29.6000</td>\n      <td>4</td>\n      <td>0.00</td>\n      <td>13.3200</td>\n    </tr>\n    <tr>\n      <th>9993</th>\n      <td>Second Class</td>\n      <td>Consumer</td>\n      <td>United States</td>\n      <td>Westminster</td>\n      <td>California</td>\n      <td>92683</td>\n      <td>West</td>\n      <td>Office Supplies</td>\n      <td>Appliances</td>\n      <td>243.1600</td>\n      <td>2</td>\n      <td>0.00</td>\n      <td>72.9480</td>\n    </tr>\n  </tbody>\n</table>\n<p>9994 rows × 13 columns</p>\n</div>"
     },
     "metadata": {},
     "execution_count": 3
    }
   ],
   "source": [
    "df"
   ]
  },
  {
   "cell_type": "code",
   "execution_count": 14,
   "metadata": {},
   "outputs": [
    {
     "output_type": "execute_result",
     "data": {
      "text/plain": [
       "8399.976"
      ]
     },
     "metadata": {},
     "execution_count": 14
    }
   ],
   "source": [
    "max(df['Profit'])"
   ]
  },
  {
   "cell_type": "code",
   "execution_count": 18,
   "metadata": {},
   "outputs": [
    {
     "output_type": "execute_result",
     "data": {
      "text/plain": [
       "           Ship Mode      Segment        Country         City           State  \\\n",
       "7772  Standard Class     Consumer  United States    Lancaster            Ohio   \n",
       "683         Same Day    Corporate  United States   Burlington  North Carolina   \n",
       "9774  Standard Class     Consumer  United States  San Antonio           Texas   \n",
       "3011  Standard Class  Home Office  United States   Louisville        Colorado   \n",
       "4991  Standard Class    Corporate  United States      Chicago        Illinois   \n",
       "...              ...          ...            ...          ...             ...   \n",
       "4098  Standard Class     Consumer  United States  Minneapolis       Minnesota   \n",
       "9039  Standard Class     Consumer  United States      Detroit        Michigan   \n",
       "4190  Standard Class     Consumer  United States       Newark        Delaware   \n",
       "8153     First Class     Consumer  United States      Seattle      Washington   \n",
       "6826  Standard Class    Corporate  United States    Lafayette         Indiana   \n",
       "\n",
       "      Postal Code   Region         Category Sub-Category      Sales  Quantity  \\\n",
       "7772        43130     East       Technology     Machines   4499.985         5   \n",
       "683         27217    South       Technology     Machines   7999.980         4   \n",
       "9774        78207  Central  Office Supplies      Binders   2177.584         8   \n",
       "3011        80027     West       Technology     Machines   2549.985         5   \n",
       "4991        60653  Central  Office Supplies      Binders   1889.990         5   \n",
       "...           ...      ...              ...          ...        ...       ...   \n",
       "4098        55407  Central  Office Supplies      Binders   9449.950         5   \n",
       "9039        48205  Central  Office Supplies      Binders   9892.740        13   \n",
       "4190        19711     East       Technology      Copiers  10499.970         3   \n",
       "8153        98115     West       Technology      Copiers  13999.960         4   \n",
       "6826        47905  Central       Technology      Copiers  17499.950         5   \n",
       "\n",
       "      Discount     Profit  \n",
       "7772       0.7 -6599.9780  \n",
       "683        0.5 -3839.9904  \n",
       "9774       0.8 -3701.8928  \n",
       "3011       0.7 -3399.9800  \n",
       "4991       0.8 -2929.4845  \n",
       "...        ...        ...  \n",
       "4098       0.0  4630.4755  \n",
       "9039       0.0  4946.3700  \n",
       "4190       0.0  5039.9856  \n",
       "8153       0.0  6719.9808  \n",
       "6826       0.0  8399.9760  \n",
       "\n",
       "[9994 rows x 13 columns]"
      ],
      "text/html": "<div>\n<style scoped>\n    .dataframe tbody tr th:only-of-type {\n        vertical-align: middle;\n    }\n\n    .dataframe tbody tr th {\n        vertical-align: top;\n    }\n\n    .dataframe thead th {\n        text-align: right;\n    }\n</style>\n<table border=\"1\" class=\"dataframe\">\n  <thead>\n    <tr style=\"text-align: right;\">\n      <th></th>\n      <th>Ship Mode</th>\n      <th>Segment</th>\n      <th>Country</th>\n      <th>City</th>\n      <th>State</th>\n      <th>Postal Code</th>\n      <th>Region</th>\n      <th>Category</th>\n      <th>Sub-Category</th>\n      <th>Sales</th>\n      <th>Quantity</th>\n      <th>Discount</th>\n      <th>Profit</th>\n    </tr>\n  </thead>\n  <tbody>\n    <tr>\n      <th>7772</th>\n      <td>Standard Class</td>\n      <td>Consumer</td>\n      <td>United States</td>\n      <td>Lancaster</td>\n      <td>Ohio</td>\n      <td>43130</td>\n      <td>East</td>\n      <td>Technology</td>\n      <td>Machines</td>\n      <td>4499.985</td>\n      <td>5</td>\n      <td>0.7</td>\n      <td>-6599.9780</td>\n    </tr>\n    <tr>\n      <th>683</th>\n      <td>Same Day</td>\n      <td>Corporate</td>\n      <td>United States</td>\n      <td>Burlington</td>\n      <td>North Carolina</td>\n      <td>27217</td>\n      <td>South</td>\n      <td>Technology</td>\n      <td>Machines</td>\n      <td>7999.980</td>\n      <td>4</td>\n      <td>0.5</td>\n      <td>-3839.9904</td>\n    </tr>\n    <tr>\n      <th>9774</th>\n      <td>Standard Class</td>\n      <td>Consumer</td>\n      <td>United States</td>\n      <td>San Antonio</td>\n      <td>Texas</td>\n      <td>78207</td>\n      <td>Central</td>\n      <td>Office Supplies</td>\n      <td>Binders</td>\n      <td>2177.584</td>\n      <td>8</td>\n      <td>0.8</td>\n      <td>-3701.8928</td>\n    </tr>\n    <tr>\n      <th>3011</th>\n      <td>Standard Class</td>\n      <td>Home Office</td>\n      <td>United States</td>\n      <td>Louisville</td>\n      <td>Colorado</td>\n      <td>80027</td>\n      <td>West</td>\n      <td>Technology</td>\n      <td>Machines</td>\n      <td>2549.985</td>\n      <td>5</td>\n      <td>0.7</td>\n      <td>-3399.9800</td>\n    </tr>\n    <tr>\n      <th>4991</th>\n      <td>Standard Class</td>\n      <td>Corporate</td>\n      <td>United States</td>\n      <td>Chicago</td>\n      <td>Illinois</td>\n      <td>60653</td>\n      <td>Central</td>\n      <td>Office Supplies</td>\n      <td>Binders</td>\n      <td>1889.990</td>\n      <td>5</td>\n      <td>0.8</td>\n      <td>-2929.4845</td>\n    </tr>\n    <tr>\n      <th>...</th>\n      <td>...</td>\n      <td>...</td>\n      <td>...</td>\n      <td>...</td>\n      <td>...</td>\n      <td>...</td>\n      <td>...</td>\n      <td>...</td>\n      <td>...</td>\n      <td>...</td>\n      <td>...</td>\n      <td>...</td>\n      <td>...</td>\n    </tr>\n    <tr>\n      <th>4098</th>\n      <td>Standard Class</td>\n      <td>Consumer</td>\n      <td>United States</td>\n      <td>Minneapolis</td>\n      <td>Minnesota</td>\n      <td>55407</td>\n      <td>Central</td>\n      <td>Office Supplies</td>\n      <td>Binders</td>\n      <td>9449.950</td>\n      <td>5</td>\n      <td>0.0</td>\n      <td>4630.4755</td>\n    </tr>\n    <tr>\n      <th>9039</th>\n      <td>Standard Class</td>\n      <td>Consumer</td>\n      <td>United States</td>\n      <td>Detroit</td>\n      <td>Michigan</td>\n      <td>48205</td>\n      <td>Central</td>\n      <td>Office Supplies</td>\n      <td>Binders</td>\n      <td>9892.740</td>\n      <td>13</td>\n      <td>0.0</td>\n      <td>4946.3700</td>\n    </tr>\n    <tr>\n      <th>4190</th>\n      <td>Standard Class</td>\n      <td>Consumer</td>\n      <td>United States</td>\n      <td>Newark</td>\n      <td>Delaware</td>\n      <td>19711</td>\n      <td>East</td>\n      <td>Technology</td>\n      <td>Copiers</td>\n      <td>10499.970</td>\n      <td>3</td>\n      <td>0.0</td>\n      <td>5039.9856</td>\n    </tr>\n    <tr>\n      <th>8153</th>\n      <td>First Class</td>\n      <td>Consumer</td>\n      <td>United States</td>\n      <td>Seattle</td>\n      <td>Washington</td>\n      <td>98115</td>\n      <td>West</td>\n      <td>Technology</td>\n      <td>Copiers</td>\n      <td>13999.960</td>\n      <td>4</td>\n      <td>0.0</td>\n      <td>6719.9808</td>\n    </tr>\n    <tr>\n      <th>6826</th>\n      <td>Standard Class</td>\n      <td>Corporate</td>\n      <td>United States</td>\n      <td>Lafayette</td>\n      <td>Indiana</td>\n      <td>47905</td>\n      <td>Central</td>\n      <td>Technology</td>\n      <td>Copiers</td>\n      <td>17499.950</td>\n      <td>5</td>\n      <td>0.0</td>\n      <td>8399.9760</td>\n    </tr>\n  </tbody>\n</table>\n<p>9994 rows × 13 columns</p>\n</div>"
     },
     "metadata": {},
     "execution_count": 18
    }
   ],
   "source": [
    "df.sort_values(by=['Profit'])"
   ]
  },
  {
   "cell_type": "code",
   "execution_count": null,
   "metadata": {},
   "outputs": [],
   "source": []
  }
 ]
}